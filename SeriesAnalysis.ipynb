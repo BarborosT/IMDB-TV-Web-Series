{
 "cells": [
  {
   "cell_type": "code",
   "execution_count": 22,
   "metadata": {},
   "outputs": [
    {
     "name": "stdout",
     "output_type": "stream",
     "text": [
      "Pandas version: 1.4.0\n",
      "Numpy version: 1.22.1\n"
     ]
    }
   ],
   "source": [
    "import numpy as np # Linear algebra\n",
    "import pandas as pd # data processing, csv, file (e.g. pd.read_csv)\n",
    "\n",
    "print(f\"Pandas version: {pd.__version__}\")\n",
    "print(f\"Numpy version: {np.__version__}\")\n",
    "\n",
    "# It's so important which we use version when analiyzing."
   ]
  },
  {
   "cell_type": "code",
   "execution_count": 23,
   "metadata": {},
   "outputs": [],
   "source": [
    "df_IMDM = pd.read_csv(\"/Users/barborostasdemir/Desktop/Imdb Tv:web Series/TV Series.csv\")"
   ]
  },
  {
   "cell_type": "code",
   "execution_count": 24,
   "metadata": {},
   "outputs": [
    {
     "data": {
      "text/html": [
       "<div>\n",
       "<style scoped>\n",
       "    .dataframe tbody tr th:only-of-type {\n",
       "        vertical-align: middle;\n",
       "    }\n",
       "\n",
       "    .dataframe tbody tr th {\n",
       "        vertical-align: top;\n",
       "    }\n",
       "\n",
       "    .dataframe thead th {\n",
       "        text-align: right;\n",
       "    }\n",
       "</style>\n",
       "<table border=\"1\" class=\"dataframe\">\n",
       "  <thead>\n",
       "    <tr style=\"text-align: right;\">\n",
       "      <th></th>\n",
       "      <th>Series Title</th>\n",
       "      <th>Release Year</th>\n",
       "      <th>Runtime</th>\n",
       "      <th>Genre</th>\n",
       "      <th>Rating</th>\n",
       "      <th>Cast</th>\n",
       "      <th>Synopsis</th>\n",
       "    </tr>\n",
       "  </thead>\n",
       "  <tbody>\n",
       "    <tr>\n",
       "      <th>0</th>\n",
       "      <td>Wednesday</td>\n",
       "      <td>(2022– )</td>\n",
       "      <td>45 min</td>\n",
       "      <td>Comedy, Crime, Fantasy</td>\n",
       "      <td>8.2</td>\n",
       "      <td>Jenna Ortega, Hunter Doohan, Percy Hynes White...</td>\n",
       "      <td>Follows Wednesday Addams' years as a student, ...</td>\n",
       "    </tr>\n",
       "    <tr>\n",
       "      <th>1</th>\n",
       "      <td>Yellowstone</td>\n",
       "      <td>(2018– )</td>\n",
       "      <td>60 min</td>\n",
       "      <td>Drama, Western</td>\n",
       "      <td>8.7</td>\n",
       "      <td>Kevin Costner, Luke Grimes, Kelly Reilly, Wes ...</td>\n",
       "      <td>A ranching family in Montana faces off against...</td>\n",
       "    </tr>\n",
       "    <tr>\n",
       "      <th>2</th>\n",
       "      <td>The White Lotus</td>\n",
       "      <td>(2021–2023)</td>\n",
       "      <td>60 min</td>\n",
       "      <td>Comedy, Drama</td>\n",
       "      <td>7.9</td>\n",
       "      <td>Jennifer Coolidge, Jon Gries, F. Murray Abraha...</td>\n",
       "      <td>Set in a tropical resort, it follows the explo...</td>\n",
       "    </tr>\n",
       "    <tr>\n",
       "      <th>3</th>\n",
       "      <td>1923</td>\n",
       "      <td>(2022–2023)</td>\n",
       "      <td>60 min</td>\n",
       "      <td>Drama, Western</td>\n",
       "      <td>8.6</td>\n",
       "      <td>Harrison Ford, Helen Mirren, Brandon Sklenar, ...</td>\n",
       "      <td>The Duttons face a new set of challenges in th...</td>\n",
       "    </tr>\n",
       "    <tr>\n",
       "      <th>4</th>\n",
       "      <td>Jack Ryan</td>\n",
       "      <td>(2018– )</td>\n",
       "      <td>60 min</td>\n",
       "      <td>Action, Drama, Thriller</td>\n",
       "      <td>8.0</td>\n",
       "      <td>John Krasinski, Wendell Pierce, Michael Kelly,...</td>\n",
       "      <td>Up-and-coming CIA analyst, Jack Ryan, is thrus...</td>\n",
       "    </tr>\n",
       "  </tbody>\n",
       "</table>\n",
       "</div>"
      ],
      "text/plain": [
       "      Series Title Release Year Runtime                    Genre Rating  \\\n",
       "0        Wednesday     (2022– )  45 min   Comedy, Crime, Fantasy    8.2   \n",
       "1      Yellowstone     (2018– )  60 min           Drama, Western    8.7   \n",
       "2  The White Lotus  (2021–2023)  60 min            Comedy, Drama    7.9   \n",
       "3             1923  (2022–2023)  60 min           Drama, Western    8.6   \n",
       "4        Jack Ryan     (2018– )  60 min  Action, Drama, Thriller    8.0   \n",
       "\n",
       "                                                Cast  \\\n",
       "0  Jenna Ortega, Hunter Doohan, Percy Hynes White...   \n",
       "1  Kevin Costner, Luke Grimes, Kelly Reilly, Wes ...   \n",
       "2  Jennifer Coolidge, Jon Gries, F. Murray Abraha...   \n",
       "3  Harrison Ford, Helen Mirren, Brandon Sklenar, ...   \n",
       "4  John Krasinski, Wendell Pierce, Michael Kelly,...   \n",
       "\n",
       "                                            Synopsis  \n",
       "0  Follows Wednesday Addams' years as a student, ...  \n",
       "1  A ranching family in Montana faces off against...  \n",
       "2  Set in a tropical resort, it follows the explo...  \n",
       "3  The Duttons face a new set of challenges in th...  \n",
       "4  Up-and-coming CIA analyst, Jack Ryan, is thrus...  "
      ]
     },
     "execution_count": 24,
     "metadata": {},
     "output_type": "execute_result"
    }
   ],
   "source": [
    "df_IMDM.head()"
   ]
  },
  {
   "cell_type": "code",
   "execution_count": 25,
   "metadata": {},
   "outputs": [
    {
     "data": {
      "text/html": [
       "<div>\n",
       "<style scoped>\n",
       "    .dataframe tbody tr th:only-of-type {\n",
       "        vertical-align: middle;\n",
       "    }\n",
       "\n",
       "    .dataframe tbody tr th {\n",
       "        vertical-align: top;\n",
       "    }\n",
       "\n",
       "    .dataframe thead th {\n",
       "        text-align: right;\n",
       "    }\n",
       "</style>\n",
       "<table border=\"1\" class=\"dataframe\">\n",
       "  <thead>\n",
       "    <tr style=\"text-align: right;\">\n",
       "      <th></th>\n",
       "      <th>Series Title</th>\n",
       "      <th>Release Year</th>\n",
       "      <th>Runtime</th>\n",
       "      <th>Genre</th>\n",
       "      <th>Rating</th>\n",
       "      <th>Cast</th>\n",
       "      <th>Synopsis</th>\n",
       "    </tr>\n",
       "  </thead>\n",
       "  <tbody>\n",
       "    <tr>\n",
       "      <th>49995</th>\n",
       "      <td>Law &amp; Order: Special Victims Unit</td>\n",
       "      <td>(1999– )</td>\n",
       "      <td>60 min</td>\n",
       "      <td>Crime, Drama, Mystery</td>\n",
       "      <td>8.1</td>\n",
       "      <td>Mariska Hargitay, Christopher Meloni, Ice-T, D...</td>\n",
       "      <td>This series follows the Special Victims Unit, ...</td>\n",
       "    </tr>\n",
       "    <tr>\n",
       "      <th>49996</th>\n",
       "      <td>Doctor Who</td>\n",
       "      <td>(2005– )</td>\n",
       "      <td>45 min</td>\n",
       "      <td>Adventure, Drama, Sci-Fi</td>\n",
       "      <td>8.6</td>\n",
       "      <td>Jodie Whittaker, Peter Capaldi, Pearl Mackie, ...</td>\n",
       "      <td>The further adventures in time and space of th...</td>\n",
       "    </tr>\n",
       "    <tr>\n",
       "      <th>49997</th>\n",
       "      <td>The Lord of the Rings: The Rings of Power</td>\n",
       "      <td>(2022– )</td>\n",
       "      <td>****</td>\n",
       "      <td>Action, Adventure, Drama</td>\n",
       "      <td>6.9</td>\n",
       "      <td>Morfydd Clark, Ismael Cruz Cordova, Charlie Vi...</td>\n",
       "      <td>Epic drama set thousands of years before the e...</td>\n",
       "    </tr>\n",
       "    <tr>\n",
       "      <th>49998</th>\n",
       "      <td>The Bear</td>\n",
       "      <td>(2022– )</td>\n",
       "      <td>30 min</td>\n",
       "      <td>Comedy, Drama</td>\n",
       "      <td>8.4</td>\n",
       "      <td>Jeremy Allen White, Ebon Moss-Bachrach, Ayo Ed...</td>\n",
       "      <td>A young chef from the fine dining world return...</td>\n",
       "    </tr>\n",
       "    <tr>\n",
       "      <th>49999</th>\n",
       "      <td>Supernatural</td>\n",
       "      <td>(2005–2020)</td>\n",
       "      <td>44 min</td>\n",
       "      <td>Drama, Fantasy, Horror</td>\n",
       "      <td>8.4</td>\n",
       "      <td>Jared Padalecki, Jensen Ackles, Jim Beaver, Mi...</td>\n",
       "      <td>Two brothers follow their father's footsteps a...</td>\n",
       "    </tr>\n",
       "  </tbody>\n",
       "</table>\n",
       "</div>"
      ],
      "text/plain": [
       "                                    Series Title Release Year Runtime  \\\n",
       "49995          Law & Order: Special Victims Unit     (1999– )  60 min   \n",
       "49996                                 Doctor Who     (2005– )  45 min   \n",
       "49997  The Lord of the Rings: The Rings of Power     (2022– )    ****   \n",
       "49998                                   The Bear     (2022– )  30 min   \n",
       "49999                               Supernatural  (2005–2020)  44 min   \n",
       "\n",
       "                          Genre Rating  \\\n",
       "49995     Crime, Drama, Mystery    8.1   \n",
       "49996  Adventure, Drama, Sci-Fi    8.6   \n",
       "49997  Action, Adventure, Drama    6.9   \n",
       "49998             Comedy, Drama    8.4   \n",
       "49999    Drama, Fantasy, Horror    8.4   \n",
       "\n",
       "                                                    Cast  \\\n",
       "49995  Mariska Hargitay, Christopher Meloni, Ice-T, D...   \n",
       "49996  Jodie Whittaker, Peter Capaldi, Pearl Mackie, ...   \n",
       "49997  Morfydd Clark, Ismael Cruz Cordova, Charlie Vi...   \n",
       "49998  Jeremy Allen White, Ebon Moss-Bachrach, Ayo Ed...   \n",
       "49999  Jared Padalecki, Jensen Ackles, Jim Beaver, Mi...   \n",
       "\n",
       "                                                Synopsis  \n",
       "49995  This series follows the Special Victims Unit, ...  \n",
       "49996  The further adventures in time and space of th...  \n",
       "49997  Epic drama set thousands of years before the e...  \n",
       "49998  A young chef from the fine dining world return...  \n",
       "49999  Two brothers follow their father's footsteps a...  "
      ]
     },
     "execution_count": 25,
     "metadata": {},
     "output_type": "execute_result"
    }
   ],
   "source": [
    "df_IMDM.tail()"
   ]
  },
  {
   "cell_type": "code",
   "execution_count": 26,
   "metadata": {},
   "outputs": [
    {
     "data": {
      "text/plain": [
       "(50000, 7)"
      ]
     },
     "execution_count": 26,
     "metadata": {},
     "output_type": "execute_result"
    }
   ],
   "source": [
    "df_IMDM.shape\n",
    "# The shape of an array is the number of elements in each dimension of the array."
   ]
  },
  {
   "cell_type": "code",
   "execution_count": 27,
   "metadata": {},
   "outputs": [
    {
     "data": {
      "text/plain": [
       "Series Title    object\n",
       "Release Year    object\n",
       "Runtime         object\n",
       "Genre           object\n",
       "Rating          object\n",
       "Cast            object\n",
       "Synopsis        object\n",
       "dtype: object"
      ]
     },
     "execution_count": 27,
     "metadata": {},
     "output_type": "execute_result"
    }
   ],
   "source": [
    "df_IMDM.dtypes\n",
    "# we are learning what data types are."
   ]
  },
  {
   "cell_type": "code",
   "execution_count": 28,
   "metadata": {},
   "outputs": [
    {
     "data": {
      "text/plain": [
       "Series Title      0\n",
       "Release Year    200\n",
       "Runtime           0\n",
       "Genre             0\n",
       "Rating            0\n",
       "Cast             91\n",
       "Synopsis          0\n",
       "dtype: int64"
      ]
     },
     "execution_count": 28,
     "metadata": {},
     "output_type": "execute_result"
    }
   ],
   "source": [
    "df_IMDM.isnull().sum()\n",
    "# we take the sum of null values."
   ]
  },
  {
   "attachments": {},
   "cell_type": "markdown",
   "metadata": {},
   "source": [
    "# Data\n",
    "\n",
    "##### Source: [IMDB - Analysis](https://www.kaggle.com/datasets/muralidharbhusal/50000-imdb-tv-and-web-series).\n",
    "\n",
    "##### Content: 50,000 rows and 7 columns\n",
    "\n",
    "##### Considerations\n",
    "* All columns are of type \"object\"\n",
    " - Task:  Format columns names\n",
    "* Some columns, like \"Rating\", were filled with \"**\" to represnet missing values.\n",
    "  - Task: Replace \"**\" values to np.NaN or None \n",
    "* this  dataset has 403441 duplicated values if we consider that each series must appear only once\n",
    "  - Task: Remove duplicate rows\n",
    "\n",
    "Questions:\n",
    "* How many series were relased in 2022?\n",
    "* What is th most Popular genre 2022?\n",
    "* What is the averga rating of 2022 drama series?"
   ]
  },
  {
   "cell_type": "code",
   "execution_count": 29,
   "metadata": {},
   "outputs": [
    {
     "data": {
      "text/html": [
       "<div>\n",
       "<style scoped>\n",
       "    .dataframe tbody tr th:only-of-type {\n",
       "        vertical-align: middle;\n",
       "    }\n",
       "\n",
       "    .dataframe tbody tr th {\n",
       "        vertical-align: top;\n",
       "    }\n",
       "\n",
       "    .dataframe thead th {\n",
       "        text-align: right;\n",
       "    }\n",
       "</style>\n",
       "<table border=\"1\" class=\"dataframe\">\n",
       "  <thead>\n",
       "    <tr style=\"text-align: right;\">\n",
       "      <th></th>\n",
       "      <th>Series Title</th>\n",
       "      <th>Release Year</th>\n",
       "      <th>Runtime</th>\n",
       "      <th>Genre</th>\n",
       "      <th>Rating</th>\n",
       "      <th>Cast</th>\n",
       "      <th>Synopsis</th>\n",
       "    </tr>\n",
       "  </thead>\n",
       "  <tbody>\n",
       "    <tr>\n",
       "      <th>12094</th>\n",
       "      <td>Ted Lasso</td>\n",
       "      <td>(2020– )</td>\n",
       "      <td>30 min</td>\n",
       "      <td>Comedy, Drama, Sport</td>\n",
       "      <td>8.8</td>\n",
       "      <td>Jason Sudeikis, Brett Goldstein, Brendan Hunt,...</td>\n",
       "      <td>American college football coach Ted Lasso head...</td>\n",
       "    </tr>\n",
       "    <tr>\n",
       "      <th>4194</th>\n",
       "      <td>Big Swiss</td>\n",
       "      <td>NaN</td>\n",
       "      <td>****</td>\n",
       "      <td>Drama</td>\n",
       "      <td>****</td>\n",
       "      <td>Star:Jodie Comer</td>\n",
       "      <td>The protagonist starts a new life in New York,...</td>\n",
       "    </tr>\n",
       "  </tbody>\n",
       "</table>\n",
       "</div>"
      ],
      "text/plain": [
       "      Series Title Release Year Runtime                 Genre Rating  \\\n",
       "12094    Ted Lasso     (2020– )  30 min  Comedy, Drama, Sport    8.8   \n",
       "4194     Big Swiss          NaN    ****                 Drama   ****   \n",
       "\n",
       "                                                    Cast  \\\n",
       "12094  Jason Sudeikis, Brett Goldstein, Brendan Hunt,...   \n",
       "4194                                    Star:Jodie Comer   \n",
       "\n",
       "                                                Synopsis  \n",
       "12094  American college football coach Ted Lasso head...  \n",
       "4194   The protagonist starts a new life in New York,...  "
      ]
     },
     "execution_count": 29,
     "metadata": {},
     "output_type": "execute_result"
    }
   ],
   "source": [
    "df_IMDM.sample(2) \n",
    "# it's brings randomly 2 piece value."
   ]
  },
  {
   "attachments": {},
   "cell_type": "markdown",
   "metadata": {},
   "source": [
    "# Trasforming Data "
   ]
  },
  {
   "cell_type": "code",
   "execution_count": 30,
   "metadata": {},
   "outputs": [],
   "source": [
    "def gt_imdb_df(df: pd.DataFrame) -> pd.DataFrame: \n",
    "    return(\n",
    "    df # Formatting column names (Series Title -> series_title\n",
    "\n",
    "    .rename(columns=lambda column_:column_.lower().replace(\" \",\"_\"))\n",
    "    # Replacing \"****\" values, converting column type and extracting relevant info\n",
    "\n",
    "    .assign(rating=lambda df_: df_.rating.replace(\"****\", np.NaN).astype(\"float32\"),\n",
    "    runtime=lambda df_: df_.runtime.replace(\"****\", np.NaN).str.extract(r\"(\\d+) min\").astype(\"float\").astype(\"Int64\"),\n",
    "    end_year=lambda df_: df_.release_year.str.extract(r\"-?(\\d+)\\)\").astype(\"float\").astype(\"Int64\"),\n",
    "                release_year=lambda df_: df_.release_year.str.extract(r\"\\((\\d+)–?\").astype(\"float\").astype(\"Int64\"))\n",
    "        # Dropping series without release year\n",
    "        .dropna(subset=[\"release_year\"])\n",
    "        # Dropping duplicated rows\n",
    "        .drop_duplicates(subset=\"series_title\")\n",
    ")\n",
    "\n"
   ]
  },
  {
   "cell_type": "code",
   "execution_count": 31,
   "metadata": {},
   "outputs": [],
   "source": [
    "transformed_imdb_df = gt_imdb_df(df_IMDM)"
   ]
  },
  {
   "cell_type": "code",
   "execution_count": 32,
   "metadata": {},
   "outputs": [
    {
     "data": {
      "text/html": [
       "<div>\n",
       "<style scoped>\n",
       "    .dataframe tbody tr th:only-of-type {\n",
       "        vertical-align: middle;\n",
       "    }\n",
       "\n",
       "    .dataframe tbody tr th {\n",
       "        vertical-align: top;\n",
       "    }\n",
       "\n",
       "    .dataframe thead th {\n",
       "        text-align: right;\n",
       "    }\n",
       "</style>\n",
       "<table border=\"1\" class=\"dataframe\">\n",
       "  <thead>\n",
       "    <tr style=\"text-align: right;\">\n",
       "      <th></th>\n",
       "      <th>series_title</th>\n",
       "      <th>release_year</th>\n",
       "      <th>runtime</th>\n",
       "      <th>genre</th>\n",
       "      <th>rating</th>\n",
       "      <th>cast</th>\n",
       "      <th>synopsis</th>\n",
       "      <th>end_year</th>\n",
       "    </tr>\n",
       "  </thead>\n",
       "  <tbody>\n",
       "    <tr>\n",
       "      <th>7137</th>\n",
       "      <td>Hip-Hop Evolution</td>\n",
       "      <td>2016</td>\n",
       "      <td>90</td>\n",
       "      <td>Documentary, Music</td>\n",
       "      <td>8.4</td>\n",
       "      <td>Shad, LL Cool J, Alonzo Williams, Melle Mel</td>\n",
       "      <td>MC and journalist Shad Kabango meets with Hip-...</td>\n",
       "      <td>&lt;NA&gt;</td>\n",
       "    </tr>\n",
       "    <tr>\n",
       "      <th>7061</th>\n",
       "      <td>Transufômâ: Maikuron densetsu</td>\n",
       "      <td>2002</td>\n",
       "      <td>30</td>\n",
       "      <td>Action, Animation, Adventure</td>\n",
       "      <td>7.0</td>\n",
       "      <td>Garry Chalk, David Kaye, Kirby Morrow, Scott M...</td>\n",
       "      <td>The Autobots and the Decepticons are going at ...</td>\n",
       "      <td>2003</td>\n",
       "    </tr>\n",
       "    <tr>\n",
       "      <th>7080</th>\n",
       "      <td>Vampire: The Masquerade: L.A. By Night</td>\n",
       "      <td>2018</td>\n",
       "      <td>&lt;NA&gt;</td>\n",
       "      <td>Horror</td>\n",
       "      <td>8.8</td>\n",
       "      <td>Cynthia Marie, Alexander Ward, B. Dave Walters...</td>\n",
       "      <td>Led by Storyteller Jason Carl of White Wolf En...</td>\n",
       "      <td>&lt;NA&gt;</td>\n",
       "    </tr>\n",
       "    <tr>\n",
       "      <th>2201</th>\n",
       "      <td>Jett</td>\n",
       "      <td>2019</td>\n",
       "      <td>60</td>\n",
       "      <td>Crime, Drama, Thriller</td>\n",
       "      <td>7.4</td>\n",
       "      <td>Carla Gugino, Elena Anaya, Michael Aronov, Gai...</td>\n",
       "      <td>World-class thief Daisy \"Jett\" Kowalski is jus...</td>\n",
       "      <td>2019</td>\n",
       "    </tr>\n",
       "    <tr>\n",
       "      <th>4467</th>\n",
       "      <td>Nanny and the Professor</td>\n",
       "      <td>1970</td>\n",
       "      <td>30</td>\n",
       "      <td>Comedy, Fantasy</td>\n",
       "      <td>7.2</td>\n",
       "      <td>Juliet Mills, Richard Long, David Doremus, Tre...</td>\n",
       "      <td>A remarkable young English nanny takes over th...</td>\n",
       "      <td>1971</td>\n",
       "    </tr>\n",
       "  </tbody>\n",
       "</table>\n",
       "</div>"
      ],
      "text/plain": [
       "                                series_title release_year runtime  \\\n",
       "7137                       Hip-Hop Evolution         2016      90   \n",
       "7061           Transufômâ: Maikuron densetsu         2002      30   \n",
       "7080  Vampire: The Masquerade: L.A. By Night         2018    <NA>   \n",
       "2201                                    Jett         2019      60   \n",
       "4467                 Nanny and the Professor         1970      30   \n",
       "\n",
       "                             genre  rating  \\\n",
       "7137            Documentary, Music     8.4   \n",
       "7061  Action, Animation, Adventure     7.0   \n",
       "7080                        Horror     8.8   \n",
       "2201        Crime, Drama, Thriller     7.4   \n",
       "4467               Comedy, Fantasy     7.2   \n",
       "\n",
       "                                                   cast  \\\n",
       "7137        Shad, LL Cool J, Alonzo Williams, Melle Mel   \n",
       "7061  Garry Chalk, David Kaye, Kirby Morrow, Scott M...   \n",
       "7080  Cynthia Marie, Alexander Ward, B. Dave Walters...   \n",
       "2201  Carla Gugino, Elena Anaya, Michael Aronov, Gai...   \n",
       "4467  Juliet Mills, Richard Long, David Doremus, Tre...   \n",
       "\n",
       "                                               synopsis end_year  \n",
       "7137  MC and journalist Shad Kabango meets with Hip-...     <NA>  \n",
       "7061  The Autobots and the Decepticons are going at ...     2003  \n",
       "7080  Led by Storyteller Jason Carl of White Wolf En...     <NA>  \n",
       "2201  World-class thief Daisy \"Jett\" Kowalski is jus...     2019  \n",
       "4467  A remarkable young English nanny takes over th...     1971  "
      ]
     },
     "execution_count": 32,
     "metadata": {},
     "output_type": "execute_result"
    }
   ],
   "source": [
    "transformed_imdb_df.sample(5)"
   ]
  },
  {
   "cell_type": "code",
   "execution_count": 33,
   "metadata": {},
   "outputs": [
    {
     "data": {
      "text/html": [
       "<div>\n",
       "<style scoped>\n",
       "    .dataframe tbody tr th:only-of-type {\n",
       "        vertical-align: middle;\n",
       "    }\n",
       "\n",
       "    .dataframe tbody tr th {\n",
       "        vertical-align: top;\n",
       "    }\n",
       "\n",
       "    .dataframe thead th {\n",
       "        text-align: right;\n",
       "    }\n",
       "</style>\n",
       "<table border=\"1\" class=\"dataframe\">\n",
       "  <thead>\n",
       "    <tr style=\"text-align: right;\">\n",
       "      <th></th>\n",
       "      <th>Series Title</th>\n",
       "      <th>Release Year</th>\n",
       "      <th>Runtime</th>\n",
       "      <th>Genre</th>\n",
       "      <th>Rating</th>\n",
       "      <th>Cast</th>\n",
       "      <th>Synopsis</th>\n",
       "    </tr>\n",
       "  </thead>\n",
       "  <tbody>\n",
       "    <tr>\n",
       "      <th>2790</th>\n",
       "      <td>His Dark Materials</td>\n",
       "      <td>(2003)</td>\n",
       "      <td>****</td>\n",
       "      <td>Adventure, Drama, Fantasy</td>\n",
       "      <td>9.7</td>\n",
       "      <td>Terence Stamp, Kenneth Cranham, Bill Paterson,...</td>\n",
       "      <td>A young girl sets out on a quest that takes he...</td>\n",
       "    </tr>\n",
       "    <tr>\n",
       "      <th>8134</th>\n",
       "      <td>Roadworthy Rescues</td>\n",
       "      <td>(2022– )</td>\n",
       "      <td>****</td>\n",
       "      <td>****</td>\n",
       "      <td>9.6</td>\n",
       "      <td>Derek Bieri, Jessica Bieri, Dan Dosemagen, Car...</td>\n",
       "      <td>Follow Derek Bieri as he seeks out abandoned c...</td>\n",
       "    </tr>\n",
       "    <tr>\n",
       "      <th>9173</th>\n",
       "      <td>Dallyeola Bangtan!</td>\n",
       "      <td>(2015– )</td>\n",
       "      <td>****</td>\n",
       "      <td>Game-Show</td>\n",
       "      <td>9.6</td>\n",
       "      <td>RM, V, Jin, Jimin</td>\n",
       "      <td>Run BTS (Dallyeola Bangtan!) is a South Korean...</td>\n",
       "    </tr>\n",
       "    <tr>\n",
       "      <th>202</th>\n",
       "      <td>Bluey</td>\n",
       "      <td>(2018– )</td>\n",
       "      <td>7 min</td>\n",
       "      <td>Animation, Family</td>\n",
       "      <td>9.6</td>\n",
       "      <td>David McCormack, Melanie Zanetti, Ninthe van S...</td>\n",
       "      <td>The slice-of-life adventures of an Australian ...</td>\n",
       "    </tr>\n",
       "    <tr>\n",
       "      <th>16621</th>\n",
       "      <td>Breaking Bad</td>\n",
       "      <td>(2008–2013)</td>\n",
       "      <td>49 min</td>\n",
       "      <td>Crime, Drama, Thriller</td>\n",
       "      <td>9.5</td>\n",
       "      <td>Bryan Cranston, Aaron Paul, Anna Gunn, Betsy B...</td>\n",
       "      <td>A chemistry teacher diagnosed with inoperable ...</td>\n",
       "    </tr>\n",
       "    <tr>\n",
       "      <th>40021</th>\n",
       "      <td>Breaking Bad</td>\n",
       "      <td>(2008–2013)</td>\n",
       "      <td>49 min</td>\n",
       "      <td>Crime, Drama, Thriller</td>\n",
       "      <td>9.5</td>\n",
       "      <td>Bryan Cranston, Aaron Paul, Anna Gunn, Betsy B...</td>\n",
       "      <td>A chemistry teacher diagnosed with inoperable ...</td>\n",
       "    </tr>\n",
       "    <tr>\n",
       "      <th>29721</th>\n",
       "      <td>Breaking Bad</td>\n",
       "      <td>(2008–2013)</td>\n",
       "      <td>49 min</td>\n",
       "      <td>Crime, Drama, Thriller</td>\n",
       "      <td>9.5</td>\n",
       "      <td>Bryan Cranston, Aaron Paul, Anna Gunn, Betsy B...</td>\n",
       "      <td>A chemistry teacher diagnosed with inoperable ...</td>\n",
       "    </tr>\n",
       "    <tr>\n",
       "      <th>47071</th>\n",
       "      <td>Breaking Bad</td>\n",
       "      <td>(2008–2013)</td>\n",
       "      <td>49 min</td>\n",
       "      <td>Crime, Drama, Thriller</td>\n",
       "      <td>9.5</td>\n",
       "      <td>Bryan Cranston, Aaron Paul, Anna Gunn, Betsy B...</td>\n",
       "      <td>A chemistry teacher diagnosed with inoperable ...</td>\n",
       "    </tr>\n",
       "    <tr>\n",
       "      <th>10921</th>\n",
       "      <td>Breaking Bad</td>\n",
       "      <td>(2008–2013)</td>\n",
       "      <td>49 min</td>\n",
       "      <td>Crime, Drama, Thriller</td>\n",
       "      <td>9.5</td>\n",
       "      <td>Bryan Cranston, Aaron Paul, Anna Gunn, Betsy B...</td>\n",
       "      <td>A chemistry teacher diagnosed with inoperable ...</td>\n",
       "    </tr>\n",
       "    <tr>\n",
       "      <th>29671</th>\n",
       "      <td>Breaking Bad</td>\n",
       "      <td>(2008–2013)</td>\n",
       "      <td>49 min</td>\n",
       "      <td>Crime, Drama, Thriller</td>\n",
       "      <td>9.5</td>\n",
       "      <td>Bryan Cranston, Aaron Paul, Anna Gunn, Betsy B...</td>\n",
       "      <td>A chemistry teacher diagnosed with inoperable ...</td>\n",
       "    </tr>\n",
       "  </tbody>\n",
       "</table>\n",
       "</div>"
      ],
      "text/plain": [
       "             Series Title Release Year Runtime                      Genre  \\\n",
       "2790   His Dark Materials       (2003)    ****  Adventure, Drama, Fantasy   \n",
       "8134   Roadworthy Rescues     (2022– )    ****                       ****   \n",
       "9173   Dallyeola Bangtan!     (2015– )    ****                  Game-Show   \n",
       "202                 Bluey     (2018– )   7 min          Animation, Family   \n",
       "16621        Breaking Bad  (2008–2013)  49 min     Crime, Drama, Thriller   \n",
       "40021        Breaking Bad  (2008–2013)  49 min     Crime, Drama, Thriller   \n",
       "29721        Breaking Bad  (2008–2013)  49 min     Crime, Drama, Thriller   \n",
       "47071        Breaking Bad  (2008–2013)  49 min     Crime, Drama, Thriller   \n",
       "10921        Breaking Bad  (2008–2013)  49 min     Crime, Drama, Thriller   \n",
       "29671        Breaking Bad  (2008–2013)  49 min     Crime, Drama, Thriller   \n",
       "\n",
       "      Rating                                               Cast  \\\n",
       "2790     9.7  Terence Stamp, Kenneth Cranham, Bill Paterson,...   \n",
       "8134     9.6  Derek Bieri, Jessica Bieri, Dan Dosemagen, Car...   \n",
       "9173     9.6                                  RM, V, Jin, Jimin   \n",
       "202      9.6  David McCormack, Melanie Zanetti, Ninthe van S...   \n",
       "16621    9.5  Bryan Cranston, Aaron Paul, Anna Gunn, Betsy B...   \n",
       "40021    9.5  Bryan Cranston, Aaron Paul, Anna Gunn, Betsy B...   \n",
       "29721    9.5  Bryan Cranston, Aaron Paul, Anna Gunn, Betsy B...   \n",
       "47071    9.5  Bryan Cranston, Aaron Paul, Anna Gunn, Betsy B...   \n",
       "10921    9.5  Bryan Cranston, Aaron Paul, Anna Gunn, Betsy B...   \n",
       "29671    9.5  Bryan Cranston, Aaron Paul, Anna Gunn, Betsy B...   \n",
       "\n",
       "                                                Synopsis  \n",
       "2790   A young girl sets out on a quest that takes he...  \n",
       "8134   Follow Derek Bieri as he seeks out abandoned c...  \n",
       "9173   Run BTS (Dallyeola Bangtan!) is a South Korean...  \n",
       "202    The slice-of-life adventures of an Australian ...  \n",
       "16621  A chemistry teacher diagnosed with inoperable ...  \n",
       "40021  A chemistry teacher diagnosed with inoperable ...  \n",
       "29721  A chemistry teacher diagnosed with inoperable ...  \n",
       "47071  A chemistry teacher diagnosed with inoperable ...  \n",
       "10921  A chemistry teacher diagnosed with inoperable ...  \n",
       "29671  A chemistry teacher diagnosed with inoperable ...  "
      ]
     },
     "execution_count": 33,
     "metadata": {},
     "output_type": "execute_result"
    }
   ],
   "source": [
    "df_IMDM.sort_values([\"Rating\"], axis=0,ascending=[False],inplace=True)\n",
    "df_IMDM.head(10)"
   ]
  },
  {
   "cell_type": "code",
   "execution_count": 34,
   "metadata": {},
   "outputs": [],
   "source": [
    "First_ten_imdm=df_IMDM.head(10)"
   ]
  },
  {
   "cell_type": "code",
   "execution_count": 35,
   "metadata": {},
   "outputs": [
    {
     "data": {
      "image/png": "[encoded data removed]",
      "text/plain": [
       "<Figure size 432x288 with 1 Axes>"
      ]
     },
     "metadata": {
      "needs_background": "light"
     },
     "output_type": "display_data"
    }
   ],
   "source": [
    "First_ten_imdm[\"Rating\"].hist();"
   ]
  },
  {
   "cell_type": "code",
   "execution_count": 36,
   "metadata": {},
   "outputs": [
    {
     "data": {
      "image/png": "[encoded data removed]",
      "text/plain": [
       "<Figure size 432x288 with 1 Axes>"
      ]
     },
     "metadata": {
      "needs_background": "light"
     },
     "output_type": "display_data"
    }
   ],
   "source": [
    "df_IMDM[\"Rating\"].hist();"
   ]
  },
  {
   "cell_type": "code",
   "execution_count": 37,
   "metadata": {},
   "outputs": [],
   "source": [
    "first_runtime = df_IMDM.head()"
   ]
  },
  {
   "cell_type": "code",
   "execution_count": 38,
   "metadata": {},
   "outputs": [
    {
     "data": {
      "image/png": "[encoded data removed]",
      "text/plain": [
       "<Figure size 432x288 with 1 Axes>"
      ]
     },
     "metadata": {
      "needs_background": "light"
     },
     "output_type": "display_data"
    }
   ],
   "source": [
    "first_runtime[\"Runtime\"].hist();"
   ]
  },
  {
   "cell_type": "code",
   "execution_count": 39,
   "metadata": {},
   "outputs": [
    {
     "data": {
      "image/png": "[encoded data removed]",
      "text/plain": [
       "<Figure size 432x288 with 1 Axes>"
      ]
     },
     "metadata": {
      "needs_background": "light"
     },
     "output_type": "display_data"
    }
   ],
   "source": [
    "df_IMDM[\"Runtime\"].hist();"
   ]
  },
  {
   "cell_type": "code",
   "execution_count": 40,
   "metadata": {},
   "outputs": [
    {
     "data": {
      "text/plain": [
       "array(['9.7', '9.6', '9.5', '9.4', '9.3', '9.2', '9.1', '9.0', '8.9',\n",
       "       '8.8', '8.7', '8.6', '8.5', '8.4', '8.3', '8.2', '8.1', '8.0',\n",
       "       '7.9', '7.8', '7.7', '7.6', '7.5', '7.4', '7.3', '7.2', '7.1',\n",
       "       '7.0', '6.9', '6.8', '6.7', '6.6', '6.5', '6.4', '6.3', '6.2',\n",
       "       '6.1', '6.0', '5.9', '5.8', '5.7', '5.6', '5.5', '5.4', '5.3',\n",
       "       '5.2', '5.1', '5.0', '4.9', '4.8', '4.7', '4.6', '4.5', '4.4',\n",
       "       '4.3', '4.2', '4.1', '4.0', '3.9', '3.8', '3.7', '3.6', '3.5',\n",
       "       '3.4', '3.3', '3.2', '3.1', '3.0', '2.9', '2.8', '2.7', '2.6',\n",
       "       '2.5', '2.4', '2.3', '2.2', '2.1', '2.0', '1.9', '1.8', '1.7',\n",
       "       '1.6', '1.4', '1.1', '1.0', '****'], dtype=object)"
      ]
     },
     "execution_count": 40,
     "metadata": {},
     "output_type": "execute_result"
    }
   ],
   "source": [
    "df_IMDM[\"Rating\"].unique()"
   ]
  },
  {
   "cell_type": "code",
   "execution_count": 41,
   "metadata": {},
   "outputs": [
    {
     "data": {
      "text/plain": [
       "array(['****', '7 min', '49 min', '125 min', '59 min', '60 min',\n",
       "       '160 min', '45 min', '54 min', '1 min', '23 min', '22 min',\n",
       "       '40 min', '30 min', '67 min', '57 min', '55 min', '25 min',\n",
       "       '10 min', '180 min', '24 min', '90 min', '52 min', '51 min',\n",
       "       '80 min', '88 min', '70 min', '240 min', '95 min', '44 min',\n",
       "       '26 min', '47 min', '20 min', '41 min', '8 min', '46 min',\n",
       "       '42 min', '35 min', '53 min', '5 min', '11 min', '43 min',\n",
       "       '28 min', '175 min', '66 min', '3 min', '9 min', '84 min',\n",
       "       '50 min', '12 min', '58 min', '15 min', '75 min', '92 min',\n",
       "       '72 min', '2 min', '29 min', '150 min', '27 min', '120 min',\n",
       "       '89 min', '100 min', '176 min', '21 min', '65 min', '6 min',\n",
       "       '56 min', '62 min', '85 min', '159 min', '63 min', '105 min',\n",
       "       '33 min', '13 min', '402 min', '32 min', '4 min', '491 min',\n",
       "       '325 min', '48 min', '69 min', '207 min', '469 min', '561 min',\n",
       "       '480 min', '900 min', '39 min', '853 min', '217 min', '177 min',\n",
       "       '890 min', '519 min', '384 min', '16 min', '410 min', '71 min',\n",
       "       '225 min', '135 min', '420 min', '527 min', '36 min', '78 min',\n",
       "       '34 min', '378 min', '174 min', '276 min', '14 min', '1,290 min',\n",
       "       '123 min', '306 min', '374 min', '172 min', '720 min', '218 min',\n",
       "       '81 min', '18 min', '140 min', '210 min', '17 min', '328 min',\n",
       "       '360 min', '195 min', '650 min', '358 min', '152 min', '701 min',\n",
       "       '37 min', '522 min', '330 min', '110 min', '270 min', '312 min',\n",
       "       '19 min', '461 min', '133 min', '264 min', '343 min', '311 min',\n",
       "       '290 min', '99 min', '93 min', '584 min', '38 min', '146 min',\n",
       "       '31 min', '300 min', '752 min', '83 min', '185 min', '61 min',\n",
       "       '130 min', '280 min', '403 min', '487 min', '74 min', '143 min',\n",
       "       '366 min', '68 min', '542 min', '122 min', '258 min', '230 min',\n",
       "       '86 min', '778 min', '155 min', '440 min', '540 min', '321 min',\n",
       "       '138 min', '303 min', '226 min', '453 min', '149 min', '535 min',\n",
       "       '462 min', '409 min', '516 min', '101 min', '566 min', '614 min',\n",
       "       '191 min', '64 min', '288 min', '284 min', '228 min', '341 min',\n",
       "       '345 min', '102 min', '96 min', '370 min', '426 min', '415 min',\n",
       "       '441 min', '430 min', '251 min', '223 min', '289 min', '115 min',\n",
       "       '352 min', '400 min', '111 min', '448 min', '198 min', '79 min',\n",
       "       '229 min', '82 min', '98 min', '608 min', '271 min', '293 min',\n",
       "       '181 min', '335 min', '127 min', '178 min', '124 min', '275 min',\n",
       "       '200 min', '333 min', '73 min', '285 min', '332 min', '261 min',\n",
       "       '163 min', '340 min', '353 min', '188 min', '269 min', '242 min',\n",
       "       '128 min', '192 min', '227 min', '137 min', '104 min', '232 min',\n",
       "       '375 min', '94 min'], dtype=object)"
      ]
     },
     "execution_count": 41,
     "metadata": {},
     "output_type": "execute_result"
    }
   ],
   "source": [
    "df_IMDM[\"Runtime\"].unique()"
   ]
  },
  {
   "attachments": {},
   "cell_type": "markdown",
   "metadata": {},
   "source": [
    "# Answering the questions"
   ]
  },
  {
   "cell_type": "code",
   "execution_count": 45,
   "metadata": {},
   "outputs": [
    {
     "name": "stdout",
     "output_type": "stream",
     "text": [
      "how many series were relased in 2022? 1140\n",
      "What is the most popular genre in 2022? Drama \n",
      "What is the average rating of 2022 drama series7.1\n"
     ]
    }
   ],
   "source": [
    "print(f\"how many series were relased in 2022? { transformed_imdb_df.release_year.eq(2022).sum()}\")\n",
    "\n",
    "q2_query = (\n",
    "    transformed_imdb_df\n",
    "    .query(\"release_year == 2022\")\n",
    "    .genre.str\n",
    "    .split(\", \")\n",
    "    .explode()\n",
    "    .value_counts()\n",
    "    .index[0]\n",
    ")\n",
    "\n",
    "print(f\"What is the most popular genre in 2022? { q2_query} \")\n",
    "\n",
    "q3_query = (\n",
    "    transformed_imdb_df\n",
    "    .query(\"release_year == 2022 & 'Drama' in genre\")\n",
    "    .rating\n",
    "    .mean()\n",
    ")\n",
    "\n",
    "print(f\"What is the average rating of 2022 drama series{q3_query:.1f}\")"
   ]
  }
 ],
 "metadata": {
  "kernelspec": {
   "display_name": "Python 3",
   "language": "python",
   "name": "python3"
  },
  "language_info": {
   "codemirror_mode": {
    "name": "ipython",
    "version": 3
   },
   "file_extension": ".py",
   "mimetype": "text/x-python",
   "name": "python",
   "nbconvert_exporter": "python",
   "pygments_lexer": "ipython3",
   "version": "3.9.10"
  },
  "orig_nbformat": 4,
  "vscode": {
   "interpreter": {
    "hash": "aee8b7b246df8f9039afb4144a1f6fd8d2ca17a180786b69acc140d282b71a49"
   }
  }
 },
 "nbformat": 4,
 "nbformat_minor": 2
}
